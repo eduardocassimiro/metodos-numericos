{
 "cells": [
  {
   "cell_type": "markdown",
   "metadata": {},
   "source": [
    "### Método Integral Trapezoidal"
   ]
  },
  {
   "cell_type": "code",
   "execution_count": 1,
   "metadata": {},
   "outputs": [],
   "source": [
    "def integral_trapezio(func, prec, a, b):\n",
    "    soma = 0\n",
    "    while a<b:\n",
    "        soma+=((func(a)+func(a+prec))/2)*prec\n",
    "        a+=prec\n",
    "    return soma"
   ]
  },
  {
   "cell_type": "markdown",
   "metadata": {},
   "source": [
    "#### Funções"
   ]
  },
  {
   "cell_type": "code",
   "execution_count": 2,
   "metadata": {},
   "outputs": [],
   "source": [
    "func = lambda x: -1*(x*x) +10*x -10\n",
    "func2 = lambda x: x*x -10*x +10\n",
    "func3 = lambda x: x*x -5*x -10"
   ]
  },
  {
   "cell_type": "markdown",
   "metadata": {},
   "source": [
    "$ func(x) = -x^2+10x-10 $ <br>\n",
    "$ func2(x) = x^2-10x+10 $ <br>\n",
    "$ func3(x) = x^2-5x-10 $"
   ]
  },
  {
   "cell_type": "markdown",
   "metadata": {},
   "source": [
    "#### Testes"
   ]
  },
  {
   "cell_type": "code",
   "execution_count": 9,
   "metadata": {},
   "outputs": [],
   "source": [
    "import datetime \n",
    "\n",
    "prec = [0.1,0.01,0.001,0.0001,0.00001]\n",
    "\n",
    "resp1 = []\n",
    "tempo1 = []\n",
    "for i in prec:\n",
    "    inicio = datetime.datetime.now()\n",
    "    resp1.append(integral_trapezio(func,i,2,8))\n",
    "    fim = datetime.datetime.now()\n",
    "    tempo1.append((fim - inicio).total_seconds())\n",
    "\n",
    "resp2 = []\n",
    "tempo2 = []\n",
    "for i in prec:\n",
    "    inicio = datetime.datetime.now()\n",
    "    resp2.append(integral_trapezio(func2,i,2,8))\n",
    "    fim = datetime.datetime.now()\n",
    "    tempo2.append((fim - inicio).total_seconds())\n",
    "    \n",
    "resp3 = []\n",
    "tempo3 = []\n",
    "for i in prec:\n",
    "    inicio = datetime.datetime.now()\n",
    "    resp3.append(integral_trapezio(func3,0.1,-1,6))\n",
    "    fim = datetime.datetime.now()\n",
    "    tempo3.append((fim - inicio).total_seconds())"
   ]
  },
  {
   "cell_type": "code",
   "execution_count": 10,
   "metadata": {},
   "outputs": [
    {
     "data": {
      "text/plain": [
       "[72.5595000000001,\n",
       " 72.05959950000081,\n",
       " 71.99999899999192,\n",
       " 72.00059996004084,\n",
       " 72.00006000054871]"
      ]
     },
     "execution_count": 10,
     "metadata": {},
     "output_type": "execute_result"
    }
   ],
   "source": [
    "resp1"
   ]
  },
  {
   "cell_type": "code",
   "execution_count": 11,
   "metadata": {},
   "outputs": [
    {
     "data": {
      "text/plain": [
       "[-72.5595000000001,\n",
       " -72.05959950000081,\n",
       " -71.99999899999192,\n",
       " -72.00059996004084,\n",
       " -72.00006000054871]"
      ]
     },
     "execution_count": 11,
     "metadata": {},
     "output_type": "execute_result"
    }
   ],
   "source": [
    "resp2"
   ]
  },
  {
   "cell_type": "code",
   "execution_count": 12,
   "metadata": {},
   "outputs": [
    {
     "data": {
      "text/plain": [
       "[-85.51950000000004,\n",
       " -85.51950000000004,\n",
       " -85.51950000000004,\n",
       " -85.51950000000004,\n",
       " -85.51950000000004]"
      ]
     },
     "execution_count": 12,
     "metadata": {},
     "output_type": "execute_result"
    }
   ],
   "source": [
    "resp3"
   ]
  },
  {
   "cell_type": "code",
   "execution_count": 34,
   "metadata": {},
   "outputs": [],
   "source": [
    "import numpy\n",
    "erro_abs1 = [abs(x-72) for x in abs(numpy.array(resp1))]"
   ]
  },
  {
   "cell_type": "code",
   "execution_count": 35,
   "metadata": {},
   "outputs": [
    {
     "data": {
      "text/plain": [
       "[0.5595000000000994,\n",
       " 0.05959950000081449,\n",
       " 1.0000080834515757e-06,\n",
       " 0.0005999600408443939,\n",
       " 6.000054871435623e-05]"
      ]
     },
     "execution_count": 35,
     "metadata": {},
     "output_type": "execute_result"
    }
   ],
   "source": [
    "erro_abs1"
   ]
  },
  {
   "cell_type": "code",
   "execution_count": 36,
   "metadata": {},
   "outputs": [],
   "source": [
    "erro_rlt1 = [(100*x)/72 for x in erro_abs1]"
   ]
  },
  {
   "cell_type": "code",
   "execution_count": 37,
   "metadata": {},
   "outputs": [
    {
     "data": {
      "text/plain": [
       "[0.7770833333334713,\n",
       " 0.08277708333446457,\n",
       " 1.3889001159049662e-06,\n",
       " 0.0008332778345061027,\n",
       " 8.333409543660587e-05]"
      ]
     },
     "execution_count": 37,
     "metadata": {},
     "output_type": "execute_result"
    }
   ],
   "source": [
    "erro_rlt1"
   ]
  },
  {
   "cell_type": "code",
   "execution_count": 40,
   "metadata": {},
   "outputs": [
    {
     "data": {
      "text/plain": [
       "array([7.771e-01, 8.280e-02, 0.000e+00, 8.000e-04, 1.000e-04])"
      ]
     },
     "execution_count": 40,
     "metadata": {},
     "output_type": "execute_result"
    }
   ],
   "source": [
    "numpy.around(erro_rlt1,4)"
   ]
  },
  {
   "cell_type": "code",
   "execution_count": null,
   "metadata": {},
   "outputs": [],
   "source": []
  }
 ],
 "metadata": {
  "kernelspec": {
   "display_name": "Python 3",
   "language": "python",
   "name": "python3"
  },
  "language_info": {
   "codemirror_mode": {
    "name": "ipython",
    "version": 3
   },
   "file_extension": ".py",
   "mimetype": "text/x-python",
   "name": "python",
   "nbconvert_exporter": "python",
   "pygments_lexer": "ipython3",
   "version": "3.7.6"
  }
 },
 "nbformat": 4,
 "nbformat_minor": 4
}
