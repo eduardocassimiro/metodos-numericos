{
 "cells": [
  {
   "cell_type": "markdown",
   "metadata": {},
   "source": [
    "### Método Integral Retangulo"
   ]
  },
  {
   "cell_type": "code",
   "execution_count": 7,
   "metadata": {},
   "outputs": [],
   "source": [
    "def integral_retangulo(func, prec, a, b):\n",
    "    soma = 0\n",
    "    while a<b:\n",
    "        soma += func(a)*prec\n",
    "        a+=prec\n",
    "    return soma"
   ]
  },
  {
   "cell_type": "markdown",
   "metadata": {},
   "source": [
    "#### Funções"
   ]
  },
  {
   "cell_type": "code",
   "execution_count": 2,
   "metadata": {},
   "outputs": [],
   "source": [
    "func = lambda x: -1*(x*x) +10*x -10\n",
    "func2 = lambda x: x*x -10*x +10\n",
    "func3 = lambda x: x*x -5*x -10"
   ]
  },
  {
   "cell_type": "markdown",
   "metadata": {},
   "source": [
    "$ func(x) = -x^2+10x-10 $ <br>\n",
    "$ func2(x) = x^2-10x+10 $ <br>\n",
    "$ func3(x) = x^2-5x-10 $"
   ]
  },
  {
   "cell_type": "markdown",
   "metadata": {},
   "source": [
    "#### Testes"
   ]
  },
  {
   "cell_type": "code",
   "execution_count": 8,
   "metadata": {},
   "outputs": [],
   "source": [
    "resp1 = []\n",
    "resp1.append(integral_retangulo(func,0.1,2,8))\n",
    "resp1.append(integral_retangulo(func,0.01,2,8))\n",
    "resp1.append(integral_retangulo(func,0.001,2,8))\n",
    "resp1.append(integral_retangulo(func,0.0001,2,8))\n",
    "resp1.append(integral_retangulo(func,0.00001,2,8))\n",
    "\n",
    "resp2 = []\n",
    "resp2.append(integral_retangulo(func2,0.1,2,8))\n",
    "resp2.append(integral_retangulo(func2,0.01,2,8))\n",
    "resp2.append(integral_retangulo(func2,0.001,2,8))\n",
    "resp2.append(integral_retangulo(func2,0.0001,2,8))\n",
    "resp2.append(integral_retangulo(func2,0.00001,2,8))\n",
    "\n",
    "resp3 = []\n",
    "resp3.append(integral_retangulo(func3,0.1,-1,6))\n",
    "resp3.append(integral_retangulo(func3,0.01,-1,6))\n",
    "resp3.append(integral_retangulo(func3,0.001,-1,6))\n",
    "resp3.append(integral_retangulo(func3,0.0001,-1,6))\n",
    "resp3.append(integral_retangulo(func3,0.00001,-1,6))"
   ]
  },
  {
   "cell_type": "code",
   "execution_count": 9,
   "metadata": {},
   "outputs": [
    {
     "data": {
      "text/plain": [
       "[72.59000000000007,\n",
       " 72.05990000000077,\n",
       " 71.99999899999197,\n",
       " 72.00059999004199,\n",
       " 72.00006000085045]"
      ]
     },
     "execution_count": 9,
     "metadata": {},
     "output_type": "execute_result"
    }
   ],
   "source": [
    "resp1"
   ]
  },
  {
   "cell_type": "code",
   "execution_count": 10,
   "metadata": {},
   "outputs": [
    {
     "data": {
      "text/plain": [
       "[-72.59000000000007,\n",
       " -72.05990000000077,\n",
       " -71.99999899999197,\n",
       " -72.00059999004199,\n",
       " -72.00006000085045]"
      ]
     },
     "execution_count": 10,
     "metadata": {},
     "output_type": "execute_result"
    }
   ],
   "source": [
    "resp2"
   ]
  },
  {
   "cell_type": "code",
   "execution_count": 11,
   "metadata": {},
   "outputs": [
    {
     "data": {
      "text/plain": [
       "[-85.55500000000005,\n",
       " -85.20655000000072,\n",
       " -85.16666550000004,\n",
       " -85.16706665497927,\n",
       " -85.16670666677548]"
      ]
     },
     "execution_count": 11,
     "metadata": {},
     "output_type": "execute_result"
    }
   ],
   "source": [
    "resp3"
   ]
  },
  {
   "cell_type": "code",
   "execution_count": null,
   "metadata": {},
   "outputs": [],
   "source": []
  }
 ],
 "metadata": {
  "kernelspec": {
   "display_name": "Python 3",
   "language": "python",
   "name": "python3"
  },
  "language_info": {
   "codemirror_mode": {
    "name": "ipython",
    "version": 3
   },
   "file_extension": ".py",
   "mimetype": "text/x-python",
   "name": "python",
   "nbconvert_exporter": "python",
   "pygments_lexer": "ipython3",
   "version": "3.7.6"
  }
 },
 "nbformat": 4,
 "nbformat_minor": 4
}
