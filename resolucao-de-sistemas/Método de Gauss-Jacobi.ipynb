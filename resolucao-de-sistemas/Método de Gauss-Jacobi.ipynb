{
 "cells": [
  {
   "cell_type": "markdown",
   "metadata": {},
   "source": [
    "### Método de Gauss-Jacobi"
   ]
  },
  {
   "cell_type": "code",
   "execution_count": 1,
   "metadata": {},
   "outputs": [],
   "source": [
    "import copy"
   ]
  },
  {
   "cell_type": "code",
   "execution_count": 2,
   "metadata": {},
   "outputs": [],
   "source": [
    "A = [[10,2,1],[1,5,1],[2,3,10]]\n",
    "B = [7,-8,6]"
   ]
  },
  {
   "cell_type": "code",
   "execution_count": 3,
   "metadata": {},
   "outputs": [],
   "source": [
    "def jacobi(A,B,itr):\n",
    "    a = copy.deepcopy(A)\n",
    "    b = copy.deepcopy(B)\n",
    "    \n",
    "    n = len(a)\n",
    "    \n",
    "    vmax = []\n",
    "    \n",
    "    for i in range(0, n):\n",
    "        vmax.append(a[i][i])\n",
    "        a[i] = [ -1*k/vmax[i] for k in a[i] ]\n",
    "        a[i][i] = b[i]/vmax[i]\n",
    "        \n",
    "    for i in range(0, n):\n",
    "        b[i] = a[i][i]\n",
    "    \n",
    "    for m in range(0,itr):\n",
    "        soma = n*[0]\n",
    "        for j in range(0,n):\n",
    "            for i in range(0,n):\n",
    "                if i!=j :\n",
    "                    soma[j] += b[i] * a[j][i]\n",
    "                else:\n",
    "                    soma[j] += a[j][i]\n",
    "        b = soma\n",
    "    return b"
   ]
  },
  {
   "cell_type": "code",
   "execution_count": 4,
   "metadata": {},
   "outputs": [
    {
     "data": {
      "text/plain": [
       "[0.96, -1.8599999999999999, 0.94]"
      ]
     },
     "execution_count": 4,
     "metadata": {},
     "output_type": "execute_result"
    }
   ],
   "source": [
    "jacobi(A,B,1)"
   ]
  },
  {
   "cell_type": "code",
   "execution_count": null,
   "metadata": {},
   "outputs": [],
   "source": []
  }
 ],
 "metadata": {
  "kernelspec": {
   "display_name": "Python 3",
   "language": "python",
   "name": "python3"
  },
  "language_info": {
   "codemirror_mode": {
    "name": "ipython",
    "version": 3
   },
   "file_extension": ".py",
   "mimetype": "text/x-python",
   "name": "python",
   "nbconvert_exporter": "python",
   "pygments_lexer": "ipython3",
   "version": "3.7.6"
  }
 },
 "nbformat": 4,
 "nbformat_minor": 4
}
