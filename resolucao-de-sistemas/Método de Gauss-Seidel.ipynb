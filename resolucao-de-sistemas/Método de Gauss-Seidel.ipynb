{
 "cells": [
  {
   "cell_type": "markdown",
   "metadata": {},
   "source": [
    "### Método de Gauss-Seidel"
   ]
  },
  {
   "cell_type": "code",
   "execution_count": 2,
   "metadata": {},
   "outputs": [],
   "source": [
    "import copy"
   ]
  },
  {
   "cell_type": "code",
   "execution_count": 3,
   "metadata": {},
   "outputs": [],
   "source": [
    "A = [[10,2,1],[1,5,1],[2,3,10]]\n",
    "B = [7,-8,6]"
   ]
  },
  {
   "cell_type": "code",
   "execution_count": 9,
   "metadata": {},
   "outputs": [],
   "source": [
    "def seidel(A,B,itr):\n",
    "    a = copy.deepcopy(A)\n",
    "    b = copy.deepcopy(B)\n",
    "    \n",
    "    n = len(a)\n",
    "    \n",
    "    vmax = []\n",
    "    for i in range(0, n):\n",
    "        vmax.append(a[i][i])\n",
    "        a[i] = [ -1*k/vmax[i] for k in a[i] ]\n",
    "        a[i][i] = b[i]/vmax[i]\n",
    "    \n",
    "    b = n*[0]\n",
    "    for m in range(0,itr):\n",
    "        soma = n*[0]\n",
    "        for j in range(0,n):\n",
    "            for i in range(0,n):\n",
    "                if i!=j :\n",
    "                    soma[j] += b[i] * a[j][i]\n",
    "                else:\n",
    "                    soma[j] += a[j][i]\n",
    "            b[j] = soma[j]\n",
    "    return b"
   ]
  },
  {
   "cell_type": "code",
   "execution_count": 15,
   "metadata": {},
   "outputs": [
    {
     "data": {
      "text/plain": [
       "[0.9966772, -2.0005250400000003, 1.000822072]"
      ]
     },
     "execution_count": 15,
     "metadata": {},
     "output_type": "execute_result"
    }
   ],
   "source": [
    "seidel(A,B,3)"
   ]
  },
  {
   "cell_type": "code",
   "execution_count": null,
   "metadata": {},
   "outputs": [],
   "source": []
  }
 ],
 "metadata": {
  "kernelspec": {
   "display_name": "Python 3",
   "language": "python",
   "name": "python3"
  },
  "language_info": {
   "codemirror_mode": {
    "name": "ipython",
    "version": 3
   },
   "file_extension": ".py",
   "mimetype": "text/x-python",
   "name": "python",
   "nbconvert_exporter": "python",
   "pygments_lexer": "ipython3",
   "version": "3.7.6"
  }
 },
 "nbformat": 4,
 "nbformat_minor": 4
}
