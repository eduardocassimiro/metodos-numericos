{
 "cells": [
  {
   "cell_type": "markdown",
   "metadata": {},
   "source": [
    "### Método da Eliminação de Gauss"
   ]
  },
  {
   "cell_type": "code",
   "execution_count": 73,
   "metadata": {},
   "outputs": [],
   "source": [
    "a = [[4,-2,-3,6],[-6,7,6.5,-6],[1,7.5,6.25,5.5],[-12,22,15.5,-1]]\n",
    "b = [12,-6.5,16,17]"
   ]
  },
  {
   "cell_type": "code",
   "execution_count": 136,
   "metadata": {},
   "outputs": [],
   "source": [
    "def eliminacao_gauss(a, b):\n",
    "    n = len(b)\n",
    "        \n",
    "    for k in range(0,n):\n",
    "        for i in range (k+1,n):\n",
    "            m = a[i][k]/a[k][k]\n",
    "            a[i][k] = 0\n",
    "            for j in range(k+1,n):\n",
    "                a[i][j] = a[i][j] - m*a[k][j]\n",
    "            b[i] = b[i] - m*b[k]\n",
    "            \n",
    "    x = ['a' for a in range(n)]\n",
    "    x[n-1] = b[n-1]/a[n-1][n-1]\n",
    "    for i in range(n-1,-1,-1):\n",
    "        soma = 0\n",
    "        for j in range(i+1,n,+1):\n",
    "            soma += a[i][j]*x[j]\n",
    "        x[i] = (b[i]-soma)/a[i][i]\n",
    "    return x"
   ]
  },
  {
   "cell_type": "code",
   "execution_count": 139,
   "metadata": {},
   "outputs": [
    {
     "data": {
      "text/plain": [
       "[2.0, 4.0, -3.0, 0.5]"
      ]
     },
     "execution_count": 139,
     "metadata": {},
     "output_type": "execute_result"
    }
   ],
   "source": [
    "eliminacao_gauss(a, b)"
   ]
  },
  {
   "cell_type": "code",
   "execution_count": null,
   "metadata": {},
   "outputs": [],
   "source": []
  }
 ],
 "metadata": {
  "kernelspec": {
   "display_name": "Python 3",
   "language": "python",
   "name": "python3"
  },
  "language_info": {
   "codemirror_mode": {
    "name": "ipython",
    "version": 3
   },
   "file_extension": ".py",
   "mimetype": "text/x-python",
   "name": "python",
   "nbconvert_exporter": "python",
   "pygments_lexer": "ipython3",
   "version": "3.7.6"
  }
 },
 "nbformat": 4,
 "nbformat_minor": 4
}
