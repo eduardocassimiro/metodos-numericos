{
 "cells": [
  {
   "cell_type": "markdown",
   "metadata": {},
   "source": [
    "## Método Interpolação de Lagrange"
   ]
  },
  {
   "cell_type": "markdown",
   "metadata": {},
   "source": [
    "#### Função da Interpolação de Lagrange"
   ]
  },
  {
   "cell_type": "code",
   "execution_count": 142,
   "metadata": {},
   "outputs": [],
   "source": [
    "def interpolacao_lagrange(x,y,n):\n",
    "    sol = [0]*len(n)\n",
    "    for k in range(0,len(n)):\n",
    "        for i in range(0,len(x)):\n",
    "            dividendo = 1\n",
    "            divisor = 1\n",
    "            for j in range(0,len(x)):\n",
    "                if i != j :\n",
    "                    dividendo *= (n[k]-x[j])\n",
    "                    divisor *= (x[i]-x[j])\n",
    "            sol[k]+= (dividendo*y[i])/divisor\n",
    "    return sol"
   ]
  },
  {
   "cell_type": "markdown",
   "metadata": {},
   "source": [
    "#### Vetores correspondentes a função de teste $y = 10x$"
   ]
  },
  {
   "cell_type": "code",
   "execution_count": 90,
   "metadata": {},
   "outputs": [],
   "source": [
    "x1_1 = list(range(0,21))\n",
    "y1_1 = [x*10 for x in x1_1]\n",
    "\n",
    "x1_2 = list(range(0,21,3))\n",
    "y1_2 = [x*10 for x in x1_2]\n",
    "\n",
    "x1_3 = list(range(0,21,4))\n",
    "y1_3 = [x*10 for x in x1_3]"
   ]
  },
  {
   "cell_type": "code",
   "execution_count": 89,
   "metadata": {},
   "outputs": [
    {
     "data": {
      "text/plain": [
       "[0, 4, 8, 12, 16, 20]"
      ]
     },
     "execution_count": 89,
     "metadata": {},
     "output_type": "execute_result"
    }
   ],
   "source": [
    "x1_3"
   ]
  },
  {
   "cell_type": "markdown",
   "metadata": {},
   "source": [
    "#### Vetores correspondentes a função de teste $y = x^2+5x+10$"
   ]
  },
  {
   "cell_type": "code",
   "execution_count": 57,
   "metadata": {},
   "outputs": [],
   "source": [
    "f1 = lambda x: 0.3*(x**2)+5*x+10\n",
    "\n",
    "x2_1 = list(range(-20,0))\n",
    "y2_1 = [f1(x) for x in x1]\n",
    "\n",
    "x2_2 = list(range(-20,0,3))\n",
    "y2_2 = [f1(x) for x in x1]\n",
    "\n",
    "x2_3 = list(range(-20,0,4))\n",
    "y2_3 = [f1(x) for x in x1]"
   ]
  },
  {
   "cell_type": "markdown",
   "metadata": {},
   "source": [
    "#### Vetores correspondentes a fundção de teste $y =0.006x^4+0.017x^3-0.345x^2-0.421x+1.115$"
   ]
  },
  {
   "cell_type": "code",
   "execution_count": 76,
   "metadata": {},
   "outputs": [],
   "source": [
    "# Resolução Maior\n",
    "f2 = lambda x: 0.006*(x**4)+0.017*(x**3)-0.345*(x**2)-0.421*x+1.115\n",
    "x3_1 = [a for a in list(range(-9,6))]\n",
    "y3_1 = [f2(a) for a in x2]\n",
    "\n",
    "# Resolução Menor 1\n",
    "x3_2 = [a/100 for a in list(range(-900,600,175))]\n",
    "y3_2 = [f2(a) for a in x3_2]\n",
    "\n",
    "# Resolução Menor 2\n",
    "x3_3 = [a/100 for a in list(range(-900,600,250))]\n",
    "y3_3 = [f2(a) for a in x3_3]"
   ]
  },
  {
   "cell_type": "code",
   "execution_count": 77,
   "metadata": {},
   "outputs": [
    {
     "data": {
      "text/plain": [
       "[-9.0, -6.5, -4.0, -1.5, 1.0, 3.5]"
      ]
     },
     "execution_count": 77,
     "metadata": {},
     "output_type": "execute_result"
    }
   ],
   "source": [
    "x3_3"
   ]
  },
  {
   "cell_type": "markdown",
   "metadata": {},
   "source": [
    "#### Testes"
   ]
  },
  {
   "cell_type": "code",
   "execution_count": 144,
   "metadata": {
    "scrolled": true
   },
   "outputs": [
    {
     "data": {
      "text/plain": [
       "[34.999999999999886, 45.00000000000004]"
      ]
     },
     "execution_count": 144,
     "metadata": {},
     "output_type": "execute_result"
    }
   ],
   "source": [
    "interpolacao_lagrange(x1_1,y1_1,[3.5,4.5])"
   ]
  },
  {
   "cell_type": "code",
   "execution_count": 14,
   "metadata": {},
   "outputs": [
    {
     "data": {
      "text/plain": [
       "[1.0827516]"
      ]
     },
     "execution_count": 14,
     "metadata": {},
     "output_type": "execute_result"
    }
   ],
   "source": [
    "spline_linear(x2,y2,[-1.25])"
   ]
  },
  {
   "cell_type": "code",
   "execution_count": 138,
   "metadata": {},
   "outputs": [
    {
     "name": "stdout",
     "output_type": "stream",
     "text": [
      "0\n"
     ]
    }
   ],
   "source": [
    "for i in range(0,1):\n",
    "    print(i)"
   ]
  },
  {
   "cell_type": "code",
   "execution_count": 15,
   "metadata": {},
   "outputs": [
    {
     "data": {
      "text/plain": [
       "1.0836328124999999"
      ]
     },
     "execution_count": 15,
     "metadata": {},
     "output_type": "execute_result"
    }
   ],
   "source": [
    "f(-1.25)"
   ]
  },
  {
   "cell_type": "code",
   "execution_count": 16,
   "metadata": {},
   "outputs": [
    {
     "data": {
      "text/plain": [
       "[1.061625]"
      ]
     },
     "execution_count": 16,
     "metadata": {},
     "output_type": "execute_result"
    }
   ],
   "source": [
    "spline_linear(x2_2,y2_2,[-1.25])"
   ]
  },
  {
   "cell_type": "code",
   "execution_count": 1,
   "metadata": {},
   "outputs": [
    {
     "data": {
      "text/plain": [
       "4"
      ]
     },
     "execution_count": 1,
     "metadata": {},
     "output_type": "execute_result"
    }
   ],
   "source": [
    "a = 1\n",
    "a *= 4\n",
    "a"
   ]
  },
  {
   "cell_type": "code",
   "execution_count": 2,
   "metadata": {},
   "outputs": [],
   "source": [
    "a /= 4"
   ]
  },
  {
   "cell_type": "code",
   "execution_count": 3,
   "metadata": {},
   "outputs": [
    {
     "data": {
      "text/plain": [
       "1.0"
      ]
     },
     "execution_count": 3,
     "metadata": {},
     "output_type": "execute_result"
    }
   ],
   "source": [
    "a"
   ]
  },
  {
   "cell_type": "code",
   "execution_count": 5,
   "metadata": {},
   "outputs": [
    {
     "name": "stdout",
     "output_type": "stream",
     "text": [
      "1 10.0\n",
      "2 5.0\n",
      "3 3.3333333333333335\n",
      "4 2.5\n",
      "5 2.0\n"
     ]
    }
   ],
   "source": [
    "for i in [1,2,3,0,4,5]:\n",
    "    try:\n",
    "        print(i, 10/i)\n",
    "    except ZeroDivisionError:\n",
    "        continue"
   ]
  },
  {
   "cell_type": "code",
   "execution_count": 7,
   "metadata": {},
   "outputs": [
    {
     "data": {
      "text/plain": [
       "[0, 0, 0, 0, 0]"
      ]
     },
     "execution_count": 7,
     "metadata": {},
     "output_type": "execute_result"
    }
   ],
   "source": [
    "[0]*len(x)"
   ]
  },
  {
   "cell_type": "code",
   "execution_count": null,
   "metadata": {},
   "outputs": [],
   "source": []
  }
 ],
 "metadata": {
  "kernelspec": {
   "display_name": "Python 3",
   "language": "python",
   "name": "python3"
  },
  "language_info": {
   "codemirror_mode": {
    "name": "ipython",
    "version": 3
   },
   "file_extension": ".py",
   "mimetype": "text/x-python",
   "name": "python",
   "nbconvert_exporter": "python",
   "pygments_lexer": "ipython3",
   "version": "3.7.6"
  }
 },
 "nbformat": 4,
 "nbformat_minor": 4
}
