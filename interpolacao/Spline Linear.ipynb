{
 "cells": [
  {
   "cell_type": "markdown",
   "metadata": {},
   "source": [
    "## Método Spline Linear\n"
   ]
  },
  {
   "cell_type": "code",
   "execution_count": 5,
   "metadata": {},
   "outputs": [],
   "source": [
    "def proc_intervalo(x,n):\n",
    "    v=[]\n",
    "    k=0\n",
    "    for m in n:\n",
    "        for i in range(k,len(x)):\n",
    "            if m < x[i]:\n",
    "                v.append([i-1,i])\n",
    "                k=i\n",
    "                break\n",
    "    return v"
   ]
  },
  {
   "cell_type": "code",
   "execution_count": 6,
   "metadata": {
    "scrolled": true
   },
   "outputs": [
    {
     "data": {
      "text/plain": [
       "[[2, 3], [3, 4]]"
      ]
     },
     "execution_count": 6,
     "metadata": {},
     "output_type": "execute_result"
    }
   ],
   "source": [
    "proc_intervalo(x,[3.5,4.1])"
   ]
  },
  {
   "cell_type": "markdown",
   "metadata": {},
   "source": [
    "#### Função de Sline Linear"
   ]
  },
  {
   "cell_type": "code",
   "execution_count": 12,
   "metadata": {},
   "outputs": [],
   "source": [
    "def spline_linear(x,y,n):\n",
    "    sol = []\n",
    "    v_intl = proc_intervalo(x,n)\n",
    "    for i in range(0,len(v_intl)):\n",
    "        x0,x1 = v_intl[i][0],v_intl[i][1]\n",
    "        y0,y1 = y[x0],y[x1]\n",
    "        x0,x1 = x[x0],x[x1]\n",
    "        sol.append((((n[i]-x1)/(x0-x1))*y0)+(((n[i]-x0)/(x1-x0))*y1))\n",
    "    return sol"
   ]
  },
  {
   "cell_type": "markdown",
   "metadata": {},
   "source": [
    "#### Vetores correspondentes a função de teste $y = 10x$"
   ]
  },
  {
   "cell_type": "code",
   "execution_count": 3,
   "metadata": {},
   "outputs": [],
   "source": [
    "x = [1,2,3,4,5]\n",
    "y = [10,20,30,40,50]"
   ]
  },
  {
   "cell_type": "markdown",
   "metadata": {},
   "source": [
    "#### Vetores correspondentes a fundção de teste $y =0.006x^4+0.017x^3-0.345x^2-0.421x+1.115$"
   ]
  },
  {
   "cell_type": "code",
   "execution_count": 4,
   "metadata": {},
   "outputs": [],
   "source": [
    "# Resolução Maior\n",
    "f = lambda x: 0.006*(x**4)+0.017*(x**3)-0.345*(x**2)-0.421*x+1.115\n",
    "x2 = [a/10 for a in list(range(-20,21))]\n",
    "y2 = [f(a) for a in x2]\n",
    "\n",
    "# Resolução Menor\n",
    "x2_2 = [a/10 for a in list(range(-20,21,5))]\n",
    "y2_2 = [f(a) for a in x2_2]"
   ]
  },
  {
   "cell_type": "markdown",
   "metadata": {},
   "source": [
    "#### Função para encontrar a posição do vetor no intervalo do x desejado"
   ]
  },
  {
   "cell_type": "markdown",
   "metadata": {},
   "source": [
    "#### Testes"
   ]
  },
  {
   "cell_type": "code",
   "execution_count": 13,
   "metadata": {
    "scrolled": true
   },
   "outputs": [
    {
     "data": {
      "text/plain": [
       "[35.0, 41.0]"
      ]
     },
     "execution_count": 13,
     "metadata": {},
     "output_type": "execute_result"
    }
   ],
   "source": [
    "spline_linear(x,y,[3.5,4.1])"
   ]
  },
  {
   "cell_type": "code",
   "execution_count": 14,
   "metadata": {},
   "outputs": [
    {
     "data": {
      "text/plain": [
       "[1.0827516]"
      ]
     },
     "execution_count": 14,
     "metadata": {},
     "output_type": "execute_result"
    }
   ],
   "source": [
    "spline_linear(x2,y2,[-1.25])"
   ]
  },
  {
   "cell_type": "code",
   "execution_count": 15,
   "metadata": {},
   "outputs": [
    {
     "data": {
      "text/plain": [
       "1.0836328124999999"
      ]
     },
     "execution_count": 15,
     "metadata": {},
     "output_type": "execute_result"
    }
   ],
   "source": [
    "f(-1.25)"
   ]
  },
  {
   "cell_type": "code",
   "execution_count": 16,
   "metadata": {},
   "outputs": [
    {
     "data": {
      "text/plain": [
       "[1.061625]"
      ]
     },
     "execution_count": 16,
     "metadata": {},
     "output_type": "execute_result"
    }
   ],
   "source": [
    "spline_linear(x2_2,y2_2,[-1.25])"
   ]
  },
  {
   "cell_type": "code",
   "execution_count": null,
   "metadata": {},
   "outputs": [],
   "source": []
  }
 ],
 "metadata": {
  "kernelspec": {
   "display_name": "Python 3",
   "language": "python",
   "name": "python3"
  },
  "language_info": {
   "codemirror_mode": {
    "name": "ipython",
    "version": 3
   },
   "file_extension": ".py",
   "mimetype": "text/x-python",
   "name": "python",
   "nbconvert_exporter": "python",
   "pygments_lexer": "ipython3",
   "version": "3.7.6"
  }
 },
 "nbformat": 4,
 "nbformat_minor": 4
}
