{
 "cells": [
  {
   "cell_type": "markdown",
   "metadata": {},
   "source": [
    "## Método Interpolação com os polinômios de Newton"
   ]
  },
  {
   "cell_type": "markdown",
   "metadata": {},
   "source": [
    "#### Função da Interpolação de Newton"
   ]
  },
  {
   "cell_type": "code",
   "execution_count": 24,
   "metadata": {},
   "outputs": [],
   "source": [
    "def polinomio_newton(x,y,a,b,polinom):\n",
    "    if(a!=b):\n",
    "        y1 = polinomio_newton(x,y,a,b-1,polinom)\n",
    "        if(polinom[b-1]==b-1): polinom[b-1]=y1\n",
    "        y2 = polinomio_newton(x,y,a+1,b,polinom)\n",
    "        return (y2-y1)/(x[b]-x[a])\n",
    "    else:\n",
    "        return y[a]\n",
    "\n",
    "def interpolacao_newton(x,y,n):\n",
    "    a = list(range(0,len(x)))\n",
    "    a[-1] = polinomio_newton(x,y,0,len(x)-1,a)\n",
    "    sol = len(n)*[0]\n",
    "    for j in range(0,len(n)):\n",
    "        calc = 1\n",
    "        for i in range(0,len(x)-1):\n",
    "            calc *= (n[j]-x[i])\n",
    "            sol[j] += a[i+1]*calc\n",
    "        sol[j]+=a[0]\n",
    "    return sol"
   ]
  },
  {
   "cell_type": "markdown",
   "metadata": {},
   "source": [
    "#### Vetores correspondentes a função de teste $y = 10x$"
   ]
  },
  {
   "cell_type": "code",
   "execution_count": 2,
   "metadata": {},
   "outputs": [],
   "source": [
    "x1_1 = list(range(0,21))\n",
    "y1_1 = [x*10 for x in x1_1]\n",
    "\n",
    "x1_2 = list(range(0,21,3))\n",
    "y1_2 = [x*10 for x in x1_2]\n",
    "\n",
    "x1_3 = list(range(0,21,4))\n",
    "y1_3 = [x*10 for x in x1_3]"
   ]
  },
  {
   "cell_type": "code",
   "execution_count": 3,
   "metadata": {},
   "outputs": [
    {
     "data": {
      "text/plain": [
       "[0, 4, 8, 12, 16, 20]"
      ]
     },
     "execution_count": 3,
     "metadata": {},
     "output_type": "execute_result"
    }
   ],
   "source": [
    "x1_3"
   ]
  },
  {
   "cell_type": "markdown",
   "metadata": {},
   "source": [
    "#### Vetores correspondentes a função de teste $y = x^2+5x+10$"
   ]
  },
  {
   "cell_type": "code",
   "execution_count": 5,
   "metadata": {},
   "outputs": [],
   "source": [
    "f1 = lambda x: 0.3*(x**2)+5*x+10\n",
    "\n",
    "x2_1 = list(range(-20,0))\n",
    "y2_1 = [f1(x) for x in x2_1]\n",
    "\n",
    "x2_2 = list(range(-20,0,3))\n",
    "y2_2 = [f1(x) for x in x2_2]\n",
    "\n",
    "x2_3 = list(range(-20,0,4))\n",
    "y2_3 = [f1(x) for x in x2_3]"
   ]
  },
  {
   "cell_type": "markdown",
   "metadata": {},
   "source": [
    "#### Vetores correspondentes a função de teste $y =0.006x^4+0.017x^3-0.345x^2-0.421x+1.115$"
   ]
  },
  {
   "cell_type": "code",
   "execution_count": 6,
   "metadata": {},
   "outputs": [],
   "source": [
    "# Resolução Maior\n",
    "f2 = lambda x: 0.006*(x**4)+0.017*(x**3)-0.345*(x**2)-0.421*x+1.115\n",
    "x3_1 = [a for a in list(range(-9,6))]\n",
    "y3_1 = [f2(a) for a in x3_1]\n",
    "\n",
    "# Resolução Menor 1\n",
    "x3_2 = [a/100 for a in list(range(-900,600,175))]\n",
    "y3_2 = [f2(a) for a in x3_2]\n",
    "\n",
    "# Resolução Menor 2\n",
    "x3_3 = [a/100 for a in list(range(-900,600,250))]\n",
    "y3_3 = [f2(a) for a in x3_3]"
   ]
  },
  {
   "cell_type": "markdown",
   "metadata": {},
   "source": [
    "#### Testes"
   ]
  },
  {
   "cell_type": "code",
   "execution_count": 2,
   "metadata": {
    "scrolled": true
   },
   "outputs": [],
   "source": [
    "#Teste com os valores do livro\n",
    "x = [1,2,4,5,7]\n",
    "y = [52,5,-5,-40,10]"
   ]
  },
  {
   "cell_type": "code",
   "execution_count": 25,
   "metadata": {},
   "outputs": [
    {
     "data": {
      "text/plain": [
       "[6.0, 4.075199999999995]"
      ]
     },
     "execution_count": 25,
     "metadata": {},
     "output_type": "execute_result"
    }
   ],
   "source": [
    "interpolacao_newton(x,y,[3,2.4])"
   ]
  },
  {
   "cell_type": "code",
   "execution_count": null,
   "metadata": {},
   "outputs": [],
   "source": []
  }
 ],
 "metadata": {
  "kernelspec": {
   "display_name": "Python 3",
   "language": "python",
   "name": "python3"
  },
  "language_info": {
   "codemirror_mode": {
    "name": "ipython",
    "version": 3
   },
   "file_extension": ".py",
   "mimetype": "text/x-python",
   "name": "python",
   "nbconvert_exporter": "python",
   "pygments_lexer": "ipython3",
   "version": "3.7.6"
  }
 },
 "nbformat": 4,
 "nbformat_minor": 4
}
