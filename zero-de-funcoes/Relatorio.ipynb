{
 "cells": [
  {
   "cell_type": "markdown",
   "metadata": {},
   "source": [
    "<center>\n",
    "    <h1>\n",
    "        <font color=\"blue\">Métodos Númericos</font>\n",
    "    </h1>\n",
    "    <h3>\n",
    "        Trabalho 1 - Zeros de Funções\n",
    "    </h3>\n",
    "    <h3>\n",
    "        <div style=\"text-align: right;\">\n",
    "            Carlos Eduardo Cassimiro (402714)\n",
    "        </div>\n",
    "    </h3>\n",
    "    <h2>\n",
    "        Relatório\n",
    "    </h2>\n",
    "</center>"
   ]
  },
  {
   "cell_type": "markdown",
   "metadata": {},
   "source": [
    "=============================================================================================================="
   ]
  },
  {
   "cell_type": "markdown",
   "metadata": {},
   "source": [
    "#### Sumário:\n",
    "1. Métodos\n",
    "2. Teste para 10 iterações\n",
    "3. Teste para 25 iterações\n",
    "4. Teste para 100 iterações\n",
    "5. Conclusão"
   ]
  },
  {
   "cell_type": "markdown",
   "metadata": {},
   "source": [
    "=============================================================================================================="
   ]
  },
  {
   "cell_type": "markdown",
   "metadata": {},
   "source": [
    "## 1. Métodos"
   ]
  },
  {
   "cell_type": "code",
   "execution_count": 1,
   "metadata": {},
   "outputs": [],
   "source": [
    "# Módulos utilizados\n",
    "import numpy                          # Numpy para a utilização e funções matemáticas \n",
    "from scipy.misc import derivative     # Scipy.misc para utilizar a função de derivada \n",
    "import datetime                       # Datetime para utilizar as funções de tempo para regristro desempenho\n",
    "import pandas                         # Pandas para organizar e exportor os resultados de forma mais legível\n",
    "import matplotlib.pyplot as mtplot    # Matplotlib.pyplot para exibit o desempenho visualmete de tempo dos métodos "
   ]
  },
  {
   "cell_type": "markdown",
   "metadata": {},
   "source": [
    "#### Método da Bisseção"
   ]
  },
  {
   "cell_type": "code",
   "execution_count": 2,
   "metadata": {},
   "outputs": [],
   "source": [
    "def bissecao(func, itr, a, b):\n",
    "    xbsc = (a+b)/2\n",
    "    if itr > 1 :\n",
    "        if (func(a)*func(xbsc)) < 0:\n",
    "            xbsc = bissecao(func, itr-1, a, xbsc)\n",
    "        elif (func(a)*func(xbsc)) > 0:\n",
    "            xbsc = bissecao(func, itr-1, xbsc, b)\n",
    "    return xbsc"
   ]
  },
  {
   "cell_type": "markdown",
   "metadata": {},
   "source": [
    "O método da Bisseção é um método fechado de busca de raiz, onde o usuário deve informar o intervalo em que se encontra a/uma das raizes da função informada. Para essa função implementada do método deve-se informar que se deseja encontrar a raiz (func), o número de iterações do algoritmo (itr) e o intervalo da absissa em que se encontra a/uma das raizes(a,b).<br> <br>\n",
    "Implementei com essas entradas, como também todos os outros métodos, imaginando que pode ser usada para estudos e também em um ambiente de desenvolvimento onde se deseja utiliza-la como solução de um problema. Nessa perspectiva, obtei por uma abordagem funcional onde o programador pode passar diretamente para a função implementada outra função, podendo passar funções lambda/anôminas e até mesmo funções de outros pacotes como numpy e math.<br> <br>\n",
    "Para a implementação do algoritmo do método da Bisseção fiz duas implementações, uma com uma abordagem recursiva e outra iterativa. Nesse relátorio trouxe a recursiva, a outra está em outro notebook jupyter dentro dos arquivos fornecidos. <br> <br>\n",
    "O algoritmo começa com a indicação de um x para bisseção, como no nome sujere dá-se indicando o centro do intervalo e criando duas partições como abstração para encontrar o valor mais próximo da bisseção. <br> <br>\n",
    "A parada dá recurção se dá pela primeira condicional do código(if itr > 1). A cada nova iteração da recurção, o número indicado para o número de iterações é decrescido em 1, assim a recursão termina quando o número de interações chega a 0, desempinhando todas as outras recursões anteriores e retornando o último valor de x encontrado. <br> <br>\n",
    "Dada a explicação da recursão, podemos entender o método em si e sua implementação recursiva. O método da bisserção consiste em bipartir o intervalo fornecido e identificar qual partição existe um valor f(x) mais próximo de 0, esse procedimento pode ser repetido atualizando os valores dos intervalos para cada nova partição, até que atingir o número de iterações/recursões indicadas pelo usuário."
   ]
  },
  {
   "cell_type": "markdown",
   "metadata": {},
   "source": [
    "#### Método do Ponto Falso"
   ]
  },
  {
   "cell_type": "code",
   "execution_count": 3,
   "metadata": {},
   "outputs": [],
   "source": [
    "def falsa_posicao(func, itr, a, b):\n",
    "    xbsc = (a*func(b)-b*func(a))/(func(b)-func(a))\n",
    "    if itr > 1 :\n",
    "        if (func(a)*func(xbsc)) < 0:\n",
    "            xbsc = falsa_posicao(func, itr-1, a, xbsc)\n",
    "        elif (func(a)*func(xbsc)) > 0:\n",
    "            xbsc = falsa_posicao(func, itr-1, xbsc, b)\n",
    "    return xbsc"
   ]
  },
  {
   "cell_type": "markdown",
   "metadata": {},
   "source": [
    "#### Método da Secante"
   ]
  },
  {
   "cell_type": "code",
   "execution_count": 4,
   "metadata": {},
   "outputs": [],
   "source": [
    "def metodo_secante(func, itr, x1, x2):\n",
    "    while itr>0 and func(x2)!=0.0:\n",
    "        x3 = x2 - (func(x2)*(x1-x2))/(func(x1)-func(x2)) \n",
    "        x1 = x2\n",
    "        x2 = x3\n",
    "        itr-=1\n",
    "    return x2"
   ]
  },
  {
   "cell_type": "markdown",
   "metadata": {},
   "source": [
    "#### Método de Newton"
   ]
  },
  {
   "cell_type": "code",
   "execution_count": 5,
   "metadata": {},
   "outputs": [],
   "source": [
    "def metodo_newton(func, itr, x):\n",
    "    while itr>0 and func(x)!=0.0:\n",
    "        x2 = x - (func(x) / derivative(func,x,dx=1e-9)) \n",
    "        x = x2\n",
    "        itr-=1\n",
    "    return x"
   ]
  },
  {
   "cell_type": "markdown",
   "metadata": {},
   "source": [
    "#### Método do Ponto Fixo"
   ]
  },
  {
   "cell_type": "code",
   "execution_count": 6,
   "metadata": {},
   "outputs": [],
   "source": [
    "def ponto_fixo(func, itr, x):\n",
    "    cond = True\n",
    "    if(cond):\n",
    "        b = derivative(func,0)\n",
    "        g = lambda x: ((-1*func(x))+(b*x))/b #Caso a\n",
    "        if(abs(derivative(g,x,dx=1e-9))<1 and abs(derivative(g,x+1,dx=1e-9))<1):\n",
    "            cond = False\n",
    "    if(cond):\n",
    "        c = -1*func(0)\n",
    "        g = lambda x: c/((func(x)+c)/x) #Caso b\n",
    "        if(abs(derivative(g,x,dx=1e-9))<1 and abs(derivative(g,x+1,dx=1e-9))<1):\n",
    "            cond = False\n",
    "    if(cond):\n",
    "        a = lambda x: func(x)+(-1*b*x)+c\n",
    "        g = lambda x: ((-1*func(x))+a(x))/((a(x)/x)) #Caso c\n",
    "        if(abs(derivative(g,x,dx=1e-9))<1 and abs(derivative(g,x+1,dx=1e-9))<1):\n",
    "            cond = False\n",
    "    if(cond):\n",
    "        return None\n",
    "\n",
    "    for i in range(0,itr):\n",
    "        x = g(x)\n",
    "    return x"
   ]
  },
  {
   "cell_type": "markdown",
   "metadata": {},
   "source": [
    "O método do ponto fixo é caracterizado por aproximar o valor de x da raiz através de uma função de iteração g(x), que é uma função com uma referida modificação da função f(x) da raiz desejada, e de uma reta y=x. Para essa implementação, resolvi implementar algumas funções de iteração e automatizar o processo de escolha e teste da função para saber se haverá convergência para a raiz da função, onde o usuário só precisa fornecer a função f(x), quantidade de iterações e um ponto inicial. <br> <br>\n",
    "A eficiência da estrategia desse método é poder utilizar uma função g(x) para que possa convergir rapidamente para a raiz da função, entretando esta também pode ser a sua limitação e erro embutido. Existem diversos modelos para função de iteração, onde uma pode ser mais eficiente do que outra para uma determinada função f(x), ou mesmo nem funcionar para convegir. Testar todas essas funções para verificar a convergência aumenta o custo de processamento do algoritmo, consequentemente demandando mais tempo, além da dificuldade para se avaliar qual função de iteração seria mais adequada."
   ]
  },
  {
   "cell_type": "markdown",
   "metadata": {},
   "source": [
    "=============================================================================================================="
   ]
  },
  {
   "cell_type": "markdown",
   "metadata": {},
   "source": [
    "#### Funções auxiliares para o relatório"
   ]
  },
  {
   "cell_type": "code",
   "execution_count": 7,
   "metadata": {},
   "outputs": [],
   "source": [
    "# Dicionário para armazenar os valores do testes dos métodos\n",
    "tb_tempo = {'Função':['x^2-3,5x-4','xe^0,5x +1,2x-5']}\n",
    "tb_prcsao = {'Função':['x^2-3,5x-4','xe^0,5x +1,2x-5']}\n",
    "\n",
    "# Funções f(x) que sejam utilizadas nos testes\n",
    "func1 = lambda x: x**2-3.5*x-4\n",
    "func2 = lambda x: x*numpy.exp(0.5*x)+1.2*x-5"
   ]
  },
  {
   "cell_type": "code",
   "execution_count": 8,
   "metadata": {},
   "outputs": [],
   "source": [
    "# Função para facilitar a repetição dos testes dos métodos para diferentes números de iteração. Nela os métodos\n",
    "# já estão com os intervalos definidos para cada fução e os resultados de tempo e precisão á são armazenados nas\n",
    "# variáveis auxiliares.\n",
    "\n",
    "def benchmark_metodos(itr):\n",
    "    global tb_tempo\n",
    "    global tb_prcsao\n",
    "    global func1\n",
    "    global func2\n",
    "    \n",
    "    # Bisseção\n",
    "    inicio = datetime.datetime.now()      # Registro do tempo inicial antes da execução do método\n",
    "    p1 = bissecao(func1,itr,4,5)          # Aplicação do método na primeira função\n",
    "    fim = datetime.datetime.now()         # Registro do tempo final da execução\n",
    "    t1 = (fim - inicio).total_seconds()   # Diferente entre o valor de tempo final e inicial em segundos\n",
    "\n",
    "    inicio = datetime.datetime.now()\n",
    "    p2 = bissecao(func2,itr,1,2)          # Aplicação do método na segunda função\n",
    "    fim = datetime.datetime.now()\n",
    "    t2 = (fim - inicio).total_seconds()\n",
    "\n",
    "    tb_prcsao['Bisseção'] = func1(p1),func2(p2)   # Registro das preciões na função 1 e função 2\n",
    "    tb_tempo['Bisseção'] = t1,t2                  # Registro dos tempos da função 1 e função 2\n",
    "\n",
    "    # Ponto Falso                           # Os mesmo procedimentos são repetidos para as outras funções\n",
    "    inicio = datetime.datetime.now()\n",
    "    p1 = falsa_posicao(func1,itr,4,5)\n",
    "    fim = datetime.datetime.now()\n",
    "    t1 = (fim - inicio).total_seconds()\n",
    "\n",
    "    inicio = datetime.datetime.now()\n",
    "    p2 = falsa_posicao(func2,itr,1,2)\n",
    "    fim = datetime.datetime.now()\n",
    "    t2 = (fim - inicio).total_seconds()\n",
    "\n",
    "    tb_prcsao['Ponto Falso'] = func1(p1),func2(p2)\n",
    "    tb_tempo['Ponto Falso'] = t1,t2\n",
    "\n",
    "    # Ponto Fixo\n",
    "    inicio = datetime.datetime.now()\n",
    "    p1 = ponto_fixo(func1,itr,4)\n",
    "    fim = datetime.datetime.now()\n",
    "    t1 = (fim - inicio).total_seconds()\n",
    "\n",
    "    inicio = datetime.datetime.now()\n",
    "    p2 = ponto_fixo(func2,itr,1)\n",
    "    fim = datetime.datetime.now()\n",
    "    t2 = (fim - inicio).total_seconds()\n",
    "\n",
    "    tb_prcsao['Ponto Fixo'] = func1(p1),func2(p2)\n",
    "    tb_tempo['Ponto Fixo'] = t1,t2\n",
    "\n",
    "    # Método de Newton\n",
    "    inicio = datetime.datetime.now()\n",
    "    p1 = metodo_newton(func1,itr,4)\n",
    "    fim = datetime.datetime.now()\n",
    "    t1 = (fim - inicio).total_seconds()\n",
    "\n",
    "    inicio = datetime.datetime.now()\n",
    "    p2 = metodo_newton(func2,itr,1)\n",
    "    fim = datetime.datetime.now()\n",
    "    t2 = (fim - inicio).total_seconds()\n",
    "\n",
    "    tb_prcsao['Newton'] = func1(p1),func2(p2)\n",
    "    tb_tempo['Newton'] = t1,t2\n",
    "\n",
    "    # Método da Secante\n",
    "    inicio = datetime.datetime.now()\n",
    "    p1 = metodo_secante(func1,itr,4,5)\n",
    "    fim = datetime.datetime.now()\n",
    "    t1 = (fim - inicio).total_seconds()\n",
    "\n",
    "    inicio = datetime.datetime.now()\n",
    "    p2 = metodo_secante(func2,itr,1,2)\n",
    "    fim = datetime.datetime.now()\n",
    "    t2 = (fim - inicio).total_seconds()\n",
    "\n",
    "    tb_prcsao['Secante'] = func1(p1),func2(p2)\n",
    "    tb_tempo['Secante'] = t1,t2\n",
    "    \n",
    "# Função para auxiliar nas plotagens dos gráficos dos tempos desempenhados pelos métodos\n",
    "def plot_benchmark():\n",
    "    global tb_tempo\n",
    "    a = []\n",
    "    b = []\n",
    "    \n",
    "    a.append(tb_tempo['Bisseção'][0]) \n",
    "    a.append(tb_tempo['Ponto Falso'][0]) \n",
    "    a.append(tb_tempo['Ponto Fixo'][0]) \n",
    "    a.append(tb_tempo['Newton'][0]) \n",
    "    a.append(tb_tempo['Secante'][0])\n",
    "\n",
    "    b.append(tb_tempo['Bisseção'][1]) \n",
    "    b.append(tb_tempo['Ponto Falso'][1]) \n",
    "    b.append(tb_tempo['Ponto Fixo'][1]) \n",
    "    b.append(tb_tempo['Newton'][1]) \n",
    "    b.append(tb_tempo['Secante'][1])\n",
    "\n",
    "    mtplot.figure(figsize=(9, 3))\n",
    "    mtplot.subplot(121)\n",
    "    mtplot.title('Func1: x^2-3,5x-4')\n",
    "    mtplot.bar(['Bis','P.Fal','P.Fix','New','Sec'],a)\n",
    "    mtplot.subplot(122)\n",
    "    mtplot.title('Func2: xe^0,5x +1,2x-5')\n",
    "    mtplot.bar(['Bis','P.Fal','P.Fix','New','Sec'],b, color='orange')\n",
    "    mtplot.show()"
   ]
  },
  {
   "cell_type": "markdown",
   "metadata": {},
   "source": [
    "=============================================================================================================="
   ]
  },
  {
   "cell_type": "markdown",
   "metadata": {},
   "source": [
    "#  2. Teste com 10 Iterações"
   ]
  },
  {
   "cell_type": "markdown",
   "metadata": {},
   "source": [
    "#### Observações:\n",
    "Os teste foram feito em um notebook com processador Intel® Celeron(R) CPU 1000M @ 1.80GHz × 2, memória RAM utilizável de 5,4 GiB, sistema operacional Ubuntu 20.04.2 LTS 64 bits, utilizando o navegador Firefox como interface para o Jupyter Notebook Python. Também vale ressaltar que o notebook tem 7 anos de uso, e que entre os mesmo testes os valores de tempo variavam um pouco, principalmente quando haviam vários programas e abas no navegador abertos. <br>"
   ]
  },
  {
   "cell_type": "code",
   "execution_count": 9,
   "metadata": {},
   "outputs": [],
   "source": [
    "benchmark_metodos(10)"
   ]
  },
  {
   "cell_type": "markdown",
   "metadata": {},
   "source": [
    "### Aproximação dos métodos para 10 iterações"
   ]
  },
  {
   "cell_type": "code",
   "execution_count": 10,
   "metadata": {},
   "outputs": [
    {
     "data": {
      "text/html": [
       "<div>\n",
       "<style scoped>\n",
       "    .dataframe tbody tr th:only-of-type {\n",
       "        vertical-align: middle;\n",
       "    }\n",
       "\n",
       "    .dataframe tbody tr th {\n",
       "        vertical-align: top;\n",
       "    }\n",
       "\n",
       "    .dataframe thead th {\n",
       "        text-align: right;\n",
       "    }\n",
       "</style>\n",
       "<table border=\"1\" class=\"dataframe\">\n",
       "  <thead>\n",
       "    <tr style=\"text-align: right;\">\n",
       "      <th></th>\n",
       "      <th>Função</th>\n",
       "      <th>Bisseção</th>\n",
       "      <th>Ponto Falso</th>\n",
       "      <th>Ponto Fixo</th>\n",
       "      <th>Newton</th>\n",
       "      <th>Secante</th>\n",
       "    </tr>\n",
       "  </thead>\n",
       "  <tbody>\n",
       "    <tr>\n",
       "      <th>0</th>\n",
       "      <td>x^2-3,5x-4</td>\n",
       "      <td>-0.001647</td>\n",
       "      <td>-2.414726e-10</td>\n",
       "      <td>-3.213683e-07</td>\n",
       "      <td>1.776357e-15</td>\n",
       "      <td>-5.321041e-10</td>\n",
       "    </tr>\n",
       "    <tr>\n",
       "      <th>1</th>\n",
       "      <td>xe^0,5x +1,2x-5</td>\n",
       "      <td>-0.000516</td>\n",
       "      <td>-8.304336e-09</td>\n",
       "      <td>-1.664011e-03</td>\n",
       "      <td>8.881784e-16</td>\n",
       "      <td>-1.197275e-07</td>\n",
       "    </tr>\n",
       "  </tbody>\n",
       "</table>\n",
       "</div>"
      ],
      "text/plain": [
       "            Função  Bisseção   Ponto Falso    Ponto Fixo        Newton  \\\n",
       "0       x^2-3,5x-4 -0.001647 -2.414726e-10 -3.213683e-07  1.776357e-15   \n",
       "1  xe^0,5x +1,2x-5 -0.000516 -8.304336e-09 -1.664011e-03  8.881784e-16   \n",
       "\n",
       "        Secante  \n",
       "0 -5.321041e-10  \n",
       "1 -1.197275e-07  "
      ]
     },
     "execution_count": 10,
     "metadata": {},
     "output_type": "execute_result"
    }
   ],
   "source": [
    "pandas.DataFrame(data=tb_prcsao)"
   ]
  },
  {
   "cell_type": "markdown",
   "metadata": {},
   "source": [
    "Com apenas 10 iterações, o método da Bisseção apresentou a menor precisão na aproximação da raiz, onde o método de Newton apresentou a melhor a aproximação. Dentre os métodos mais \"arrojados\", o método do Ponto Fixo acabou apresentando menor precisão."
   ]
  },
  {
   "cell_type": "markdown",
   "metadata": {},
   "source": [
    "### Tempo em segundos dos métodos para 10 iterações"
   ]
  },
  {
   "cell_type": "code",
   "execution_count": 11,
   "metadata": {},
   "outputs": [
    {
     "data": {
      "image/png": "[encoded data removed]",
      "text/plain": [
       "<Figure size 648x216 with 2 Axes>"
      ]
     },
     "metadata": {
      "needs_background": "light"
     },
     "output_type": "display_data"
    }
   ],
   "source": [
    "plot_benchmark()"
   ]
  },
  {
   "cell_type": "code",
   "execution_count": 12,
   "metadata": {},
   "outputs": [
    {
     "data": {
      "text/html": [
       "<div>\n",
       "<style scoped>\n",
       "    .dataframe tbody tr th:only-of-type {\n",
       "        vertical-align: middle;\n",
       "    }\n",
       "\n",
       "    .dataframe tbody tr th {\n",
       "        vertical-align: top;\n",
       "    }\n",
       "\n",
       "    .dataframe thead th {\n",
       "        text-align: right;\n",
       "    }\n",
       "</style>\n",
       "<table border=\"1\" class=\"dataframe\">\n",
       "  <thead>\n",
       "    <tr style=\"text-align: right;\">\n",
       "      <th></th>\n",
       "      <th>Função</th>\n",
       "      <th>Bisseção</th>\n",
       "      <th>Ponto Falso</th>\n",
       "      <th>Ponto Fixo</th>\n",
       "      <th>Newton</th>\n",
       "      <th>Secante</th>\n",
       "    </tr>\n",
       "  </thead>\n",
       "  <tbody>\n",
       "    <tr>\n",
       "      <th>0</th>\n",
       "      <td>x^2-3,5x-4</td>\n",
       "      <td>0.000053</td>\n",
       "      <td>0.000069</td>\n",
       "      <td>0.000793</td>\n",
       "      <td>0.001022</td>\n",
       "      <td>0.000043</td>\n",
       "    </tr>\n",
       "    <tr>\n",
       "      <th>1</th>\n",
       "      <td>xe^0,5x +1,2x-5</td>\n",
       "      <td>0.000226</td>\n",
       "      <td>0.000773</td>\n",
       "      <td>0.000775</td>\n",
       "      <td>0.001458</td>\n",
       "      <td>0.000411</td>\n",
       "    </tr>\n",
       "  </tbody>\n",
       "</table>\n",
       "</div>"
      ],
      "text/plain": [
       "            Função  Bisseção  Ponto Falso  Ponto Fixo    Newton   Secante\n",
       "0       x^2-3,5x-4  0.000053     0.000069    0.000793  0.001022  0.000043\n",
       "1  xe^0,5x +1,2x-5  0.000226     0.000773    0.000775  0.001458  0.000411"
      ]
     },
     "execution_count": 12,
     "metadata": {},
     "output_type": "execute_result"
    }
   ],
   "source": [
    "pandas.DataFrame(data=tb_tempo)"
   ]
  },
  {
   "cell_type": "markdown",
   "metadata": {},
   "source": [
    "Para 10 iterações, apesar de menos preciso, o método da Bisseção apresentou o ménor tempo em média para as aproximações, mostrando quem apesar de não ser tão preciso quando os outros métodos, ao menos não possui tantos custos computacionais quando medido por iteração. Entretando, podemos perceber que mudando o parametro de observação para tolerância, o método da Bissão possivelmente acaba sendo o mais custoso e demorado. <br> <br>\n",
    "Em uma análise amortizada, o método do Ponto Falso aparenta ter o melhor custo beneficio médio para essas duas funções e em poucos iterações. <br>\n",
    "Apesar do método de Newton ter apresentado a melhor aproximação, o seu tempo em média para as duas funções acabou sendo o maior, possivelmente devido ao custo de se calcular uma derivada a cada iteração."
   ]
  },
  {
   "cell_type": "markdown",
   "metadata": {},
   "source": [
    "=============================================================================================================="
   ]
  },
  {
   "cell_type": "markdown",
   "metadata": {},
   "source": [
    "#  3. Teste com 25 Iterações"
   ]
  },
  {
   "cell_type": "code",
   "execution_count": 13,
   "metadata": {},
   "outputs": [],
   "source": [
    "benchmark_metodos(25)"
   ]
  },
  {
   "cell_type": "markdown",
   "metadata": {},
   "source": [
    "### Aproximação dos métodos para 25 iterações"
   ]
  },
  {
   "cell_type": "code",
   "execution_count": 14,
   "metadata": {},
   "outputs": [
    {
     "data": {
      "text/html": [
       "<div>\n",
       "<style scoped>\n",
       "    .dataframe tbody tr th:only-of-type {\n",
       "        vertical-align: middle;\n",
       "    }\n",
       "\n",
       "    .dataframe tbody tr th {\n",
       "        vertical-align: top;\n",
       "    }\n",
       "\n",
       "    .dataframe thead th {\n",
       "        text-align: right;\n",
       "    }\n",
       "</style>\n",
       "<table border=\"1\" class=\"dataframe\">\n",
       "  <thead>\n",
       "    <tr style=\"text-align: right;\">\n",
       "      <th></th>\n",
       "      <th>Função</th>\n",
       "      <th>Bisseção</th>\n",
       "      <th>Ponto Falso</th>\n",
       "      <th>Ponto Fixo</th>\n",
       "      <th>Newton</th>\n",
       "      <th>Secante</th>\n",
       "    </tr>\n",
       "  </thead>\n",
       "  <tbody>\n",
       "    <tr>\n",
       "      <th>0</th>\n",
       "      <td>x^2-3,5x-4</td>\n",
       "      <td>1.257910e-07</td>\n",
       "      <td>1.776357e-15</td>\n",
       "      <td>1.776357e-15</td>\n",
       "      <td>1.776357e-15</td>\n",
       "      <td>1.776357e-15</td>\n",
       "    </tr>\n",
       "    <tr>\n",
       "      <th>1</th>\n",
       "      <td>xe^0,5x +1,2x-5</td>\n",
       "      <td>-7.651150e-08</td>\n",
       "      <td>8.881784e-16</td>\n",
       "      <td>2.813551e-08</td>\n",
       "      <td>-8.881784e-16</td>\n",
       "      <td>8.881784e-16</td>\n",
       "    </tr>\n",
       "  </tbody>\n",
       "</table>\n",
       "</div>"
      ],
      "text/plain": [
       "            Função      Bisseção   Ponto Falso    Ponto Fixo        Newton  \\\n",
       "0       x^2-3,5x-4  1.257910e-07  1.776357e-15  1.776357e-15  1.776357e-15   \n",
       "1  xe^0,5x +1,2x-5 -7.651150e-08  8.881784e-16  2.813551e-08 -8.881784e-16   \n",
       "\n",
       "        Secante  \n",
       "0  1.776357e-15  \n",
       "1  8.881784e-16  "
      ]
     },
     "execution_count": 14,
     "metadata": {},
     "output_type": "execute_result"
    }
   ],
   "source": [
    "pandas.DataFrame(data=tb_prcsao)"
   ]
  },
  {
   "cell_type": "markdown",
   "metadata": {},
   "source": [
    "Podemos ver que o método da bisserção apresentou as aproximações menos precisas em relação aos outros métodos. Onde o método de Newton, Secante e Ponto falso tiveram aproxiomações melhores do que a do  Ponto Fixo. Com isso, podemos perceber um erro associado com o método do ponto fixo para essa função, possivelmente associado com a limitação da quantidade de funções de iteração(g(x)) implementadas."
   ]
  },
  {
   "cell_type": "markdown",
   "metadata": {},
   "source": [
    "### Tempo em segundos dos métodos para 25 iterações"
   ]
  },
  {
   "cell_type": "code",
   "execution_count": 15,
   "metadata": {},
   "outputs": [
    {
     "data": {
      "image/png": "[encoded data removed]",
      "text/plain": [
       "<Figure size 648x216 with 2 Axes>"
      ]
     },
     "metadata": {
      "needs_background": "light"
     },
     "output_type": "display_data"
    }
   ],
   "source": [
    "plot_benchmark()"
   ]
  },
  {
   "cell_type": "code",
   "execution_count": 16,
   "metadata": {},
   "outputs": [
    {
     "data": {
      "text/html": [
       "<div>\n",
       "<style scoped>\n",
       "    .dataframe tbody tr th:only-of-type {\n",
       "        vertical-align: middle;\n",
       "    }\n",
       "\n",
       "    .dataframe tbody tr th {\n",
       "        vertical-align: top;\n",
       "    }\n",
       "\n",
       "    .dataframe thead th {\n",
       "        text-align: right;\n",
       "    }\n",
       "</style>\n",
       "<table border=\"1\" class=\"dataframe\">\n",
       "  <thead>\n",
       "    <tr style=\"text-align: right;\">\n",
       "      <th></th>\n",
       "      <th>Função</th>\n",
       "      <th>Bisseção</th>\n",
       "      <th>Ponto Falso</th>\n",
       "      <th>Ponto Fixo</th>\n",
       "      <th>Newton</th>\n",
       "      <th>Secante</th>\n",
       "    </tr>\n",
       "  </thead>\n",
       "  <tbody>\n",
       "    <tr>\n",
       "      <th>0</th>\n",
       "      <td>x^2-3,5x-4</td>\n",
       "      <td>0.000108</td>\n",
       "      <td>0.000134</td>\n",
       "      <td>0.001052</td>\n",
       "      <td>0.002899</td>\n",
       "      <td>0.000089</td>\n",
       "    </tr>\n",
       "    <tr>\n",
       "      <th>1</th>\n",
       "      <td>xe^0,5x +1,2x-5</td>\n",
       "      <td>0.000511</td>\n",
       "      <td>0.001789</td>\n",
       "      <td>0.000889</td>\n",
       "      <td>0.003455</td>\n",
       "      <td>0.000960</td>\n",
       "    </tr>\n",
       "  </tbody>\n",
       "</table>\n",
       "</div>"
      ],
      "text/plain": [
       "            Função  Bisseção  Ponto Falso  Ponto Fixo    Newton   Secante\n",
       "0       x^2-3,5x-4  0.000108     0.000134    0.001052  0.002899  0.000089\n",
       "1  xe^0,5x +1,2x-5  0.000511     0.001789    0.000889  0.003455  0.000960"
      ]
     },
     "execution_count": 16,
     "metadata": {},
     "output_type": "execute_result"
    }
   ],
   "source": [
    "pandas.DataFrame(data=tb_tempo)"
   ]
  },
  {
   "cell_type": "markdown",
   "metadata": {},
   "source": [
    "Os tempos em segundos para as 25 iterações mostrou-se bem diferente até mesmo para as mesma funções. Onde, considerando também a sua precisão, o método da secante se tornou mais eficaz para essas referidas funções testadas e com esse número de iterações. Apesar do método de Newton ter mostrado boa precisão, estes foi o mais demorado para esse teste, possivelmente decorrente do custo de se calcular a derivada a cada iteração."
   ]
  },
  {
   "cell_type": "markdown",
   "metadata": {},
   "source": [
    "=============================================================================================================="
   ]
  },
  {
   "cell_type": "markdown",
   "metadata": {},
   "source": [
    "#  4. Teste com 100 Iterações"
   ]
  },
  {
   "cell_type": "code",
   "execution_count": 17,
   "metadata": {},
   "outputs": [],
   "source": [
    "benchmark_metodos(100)"
   ]
  },
  {
   "cell_type": "markdown",
   "metadata": {},
   "source": [
    "### Aproximação dos métodos para 100 iterações"
   ]
  },
  {
   "cell_type": "code",
   "execution_count": 18,
   "metadata": {
    "scrolled": true
   },
   "outputs": [
    {
     "data": {
      "text/html": [
       "<div>\n",
       "<style scoped>\n",
       "    .dataframe tbody tr th:only-of-type {\n",
       "        vertical-align: middle;\n",
       "    }\n",
       "\n",
       "    .dataframe tbody tr th {\n",
       "        vertical-align: top;\n",
       "    }\n",
       "\n",
       "    .dataframe thead th {\n",
       "        text-align: right;\n",
       "    }\n",
       "</style>\n",
       "<table border=\"1\" class=\"dataframe\">\n",
       "  <thead>\n",
       "    <tr style=\"text-align: right;\">\n",
       "      <th></th>\n",
       "      <th>Função</th>\n",
       "      <th>Bisseção</th>\n",
       "      <th>Ponto Falso</th>\n",
       "      <th>Ponto Fixo</th>\n",
       "      <th>Newton</th>\n",
       "      <th>Secante</th>\n",
       "    </tr>\n",
       "  </thead>\n",
       "  <tbody>\n",
       "    <tr>\n",
       "      <th>0</th>\n",
       "      <td>x^2-3,5x-4</td>\n",
       "      <td>-3.552714e-15</td>\n",
       "      <td>1.776357e-15</td>\n",
       "      <td>1.776357e-15</td>\n",
       "      <td>1.776357e-15</td>\n",
       "      <td>1.776357e-15</td>\n",
       "    </tr>\n",
       "    <tr>\n",
       "      <th>1</th>\n",
       "      <td>xe^0,5x +1,2x-5</td>\n",
       "      <td>-8.881784e-16</td>\n",
       "      <td>8.881784e-16</td>\n",
       "      <td>-8.881784e-16</td>\n",
       "      <td>8.881784e-16</td>\n",
       "      <td>-8.881784e-16</td>\n",
       "    </tr>\n",
       "  </tbody>\n",
       "</table>\n",
       "</div>"
      ],
      "text/plain": [
       "            Função      Bisseção   Ponto Falso    Ponto Fixo        Newton  \\\n",
       "0       x^2-3,5x-4 -3.552714e-15  1.776357e-15  1.776357e-15  1.776357e-15   \n",
       "1  xe^0,5x +1,2x-5 -8.881784e-16  8.881784e-16 -8.881784e-16  8.881784e-16   \n",
       "\n",
       "        Secante  \n",
       "0  1.776357e-15  \n",
       "1 -8.881784e-16  "
      ]
     },
     "execution_count": 18,
     "metadata": {},
     "output_type": "execute_result"
    }
   ],
   "source": [
    "pandas.DataFrame(data=tb_prcsao)"
   ]
  },
  {
   "cell_type": "markdown",
   "metadata": {},
   "source": [
    "Com uma quantidade mais elevada de iterações, os valores de aproximação foram quase todos iguais. Somente no método da Bisseção para a primeira função que o método aparesentou uma aproximação menor do que os demais."
   ]
  },
  {
   "cell_type": "markdown",
   "metadata": {},
   "source": [
    "### Tempo em segundos dos métodos para 100 iterações"
   ]
  },
  {
   "cell_type": "code",
   "execution_count": 19,
   "metadata": {},
   "outputs": [
    {
     "data": {
      "image/png": "[encoded data removed]",
      "text/plain": [
       "<Figure size 648x216 with 2 Axes>"
      ]
     },
     "metadata": {
      "needs_background": "light"
     },
     "output_type": "display_data"
    }
   ],
   "source": [
    "plot_benchmark()"
   ]
  },
  {
   "cell_type": "code",
   "execution_count": 20,
   "metadata": {},
   "outputs": [
    {
     "data": {
      "text/html": [
       "<div>\n",
       "<style scoped>\n",
       "    .dataframe tbody tr th:only-of-type {\n",
       "        vertical-align: middle;\n",
       "    }\n",
       "\n",
       "    .dataframe tbody tr th {\n",
       "        vertical-align: top;\n",
       "    }\n",
       "\n",
       "    .dataframe thead th {\n",
       "        text-align: right;\n",
       "    }\n",
       "</style>\n",
       "<table border=\"1\" class=\"dataframe\">\n",
       "  <thead>\n",
       "    <tr style=\"text-align: right;\">\n",
       "      <th></th>\n",
       "      <th>Função</th>\n",
       "      <th>Bisseção</th>\n",
       "      <th>Ponto Falso</th>\n",
       "      <th>Ponto Fixo</th>\n",
       "      <th>Newton</th>\n",
       "      <th>Secante</th>\n",
       "    </tr>\n",
       "  </thead>\n",
       "  <tbody>\n",
       "    <tr>\n",
       "      <th>0</th>\n",
       "      <td>x^2-3,5x-4</td>\n",
       "      <td>0.000343</td>\n",
       "      <td>0.000465</td>\n",
       "      <td>0.002189</td>\n",
       "      <td>0.013266</td>\n",
       "      <td>0.000232</td>\n",
       "    </tr>\n",
       "    <tr>\n",
       "      <th>1</th>\n",
       "      <td>xe^0,5x +1,2x-5</td>\n",
       "      <td>0.002595</td>\n",
       "      <td>0.007341</td>\n",
       "      <td>0.001704</td>\n",
       "      <td>0.009790</td>\n",
       "      <td>0.002946</td>\n",
       "    </tr>\n",
       "  </tbody>\n",
       "</table>\n",
       "</div>"
      ],
      "text/plain": [
       "            Função  Bisseção  Ponto Falso  Ponto Fixo    Newton   Secante\n",
       "0       x^2-3,5x-4  0.000343     0.000465    0.002189  0.013266  0.000232\n",
       "1  xe^0,5x +1,2x-5  0.002595     0.007341    0.001704  0.009790  0.002946"
      ]
     },
     "execution_count": 20,
     "metadata": {},
     "output_type": "execute_result"
    }
   ],
   "source": [
    "pandas.DataFrame(data=tb_tempo)"
   ]
  },
  {
   "cell_type": "markdown",
   "metadata": {},
   "source": [
    "Considerando a média de tempo e as precisões atingidas nas aproximações, o método com melhor custo beneficio foi o método da Secante e em seguida o método do Ponto Fixo. O método de Newton novamente apresentou os maiores tempo de processamento que os demais. "
   ]
  },
  {
   "cell_type": "markdown",
   "metadata": {},
   "source": [
    "=============================================================================================================="
   ]
  },
  {
   "cell_type": "markdown",
   "metadata": {},
   "source": [
    "#  5. Conclusão"
   ]
  },
  {
   "cell_type": "markdown",
   "metadata": {},
   "source": [
    "Como dito anteriormente, realizei as implementações com a motivação que os métodos devessem acelerar algum desenvolvimento ou estudo de funções com a sua utilização, dessa maneira, deleguei ao código todo o trabalho para o desenvolvimento dos métodos, sem pedir ao usuário derivadas de funções ou funções de iteração já montadas como no caso do método do Ponto Fixo. Por essa razão também optei por fazer a passagem das funções com uma apordagem de porgramação funcional, passando a função diretamente para as implementações dos métodos. <br> <br>\n",
    "Com as analises feitas através dos dados disponíveis do testes, podemos perceber que a implementação do método da Secante demonstrou melhor permance, realizando as melhores aproximações com menores tempos. Em contra mão, o seu método semelhante, o método de Newton, apesar de ter performador boas aproximações demonstrou os piores tempo entre todos os métodos implementados. <br> <br>\n",
    "As diferenças nas performances também se devem as referidas implentações deste trabalho. O que mais diferencia o método de Newton dos outros métodos é a presença de um cálculo de derivada em cada iteração. Na presente implementação, a função que encontrei para a derivada refaz a derivada da função a cada iteração, não somente o calculo para o 'x' da iteração, pois não encontrei outra função disponivel na linguagem para poder utilizar. Haviam outras funções de diferenciação, mas não serviam para a aplicação deste código. Outra solução disponivel poderia ser a computação simbálica, mas acredito que também seria custosa para o método. <br> <br>\n",
    "O método do Ponto Fixo, apesar de aparentar ser uma solução robusta e eficaz, acabou não apresentando tão bons resultados como esperado para esta implementação. Na presente implementação houve relativa dificuldade para implementação das possíveis funções de iteração, onde a solução encontrada para simulas operações feitas semelhantes a computação simbólica acarretaram em mais cálculos. A solução consistiu em obter os termos da função e manipulá-los com outras operações na função original para obter as funções de iteração. Apesar de automatizar todo o processo do método com testes das funções de iteração, a implementação não tem a capacidade de escolher a melhor função de iteração, somente testar qual a primeira função de iteração que converge para a raíz. Outra limitação da implementação é a quantidade de funções implementadas, somentes 3, podendo haver funções não convirjam para a raiz com as funções de iteração disponíveis. <br> <br>\n",
    "A complexidade dos algoritmos é O(itr) = O(n), pois como não há vetores e nem mais que um laço ou recursão envolvidos nos métodos, a complexidade se dá apenas pelo número de iterações fornecidas pelo usuário. <br> <br>\n",
    "Foi realizado outro teste para 1000 iterações, todos os métodos obtiveram a mesma precisão, entretanto, o método do Ponto Fixo mostrou-se mais rápido do que os demais. Com essa observação, podemos avaliar que o método do Ponto Fixo, quando realizado com uma função de iteração adequada, pode apresentar desempenho melhor quando realizado com uma grande quantidade de iterações para se obter uma alta precisão no valor de x da raiz da função."
   ]
  },
  {
   "cell_type": "markdown",
   "metadata": {},
   "source": [
    "=============================================================================================================="
   ]
  }
 ],
 "metadata": {
  "kernelspec": {
   "display_name": "Python 3",
   "language": "python",
   "name": "python3"
  },
  "language_info": {
   "codemirror_mode": {
    "name": "ipython",
    "version": 3
   },
   "file_extension": ".py",
   "mimetype": "text/x-python",
   "name": "python",
   "nbconvert_exporter": "python",
   "pygments_lexer": "ipython3",
   "version": "3.7.6"
  }
 },
 "nbformat": 4,
 "nbformat_minor": 4
}
