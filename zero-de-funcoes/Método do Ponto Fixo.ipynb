{
 "cells": [
  {
   "cell_type": "markdown",
   "metadata": {},
   "source": [
    "<center>\n",
    "    <h1>\n",
    "        <font color=\"blue\">Métodos Númericos</font>\n",
    "    </h1>\n",
    "    <h3>\n",
    "        Trabalho 1 - Zeros de Funções\n",
    "    </h3>\n",
    "    <h3>\n",
    "        <div style=\"text-align: right;\">\n",
    "            Carlos Eduardo Cassimiro (402714)<br><br>\n",
    "        </div>\n",
    "        Método do Ponto Fixo\n",
    "    </h3>\n",
    "    \n",
    "</center>"
   ]
  },
  {
   "cell_type": "code",
   "execution_count": 4,
   "metadata": {},
   "outputs": [],
   "source": [
    "import numpy\n",
    "from scipy.misc import derivative"
   ]
  },
  {
   "cell_type": "code",
   "execution_count": 96,
   "metadata": {},
   "outputs": [],
   "source": [
    "def ponto_fixo(func, precisao, x):\n",
    "    cond = True\n",
    "    if(cond):\n",
    "        b = derivative(func,0)\n",
    "        g = lambda x: ((-1*func(x))+(b*x))/b #Caso a\n",
    "        \n",
    "        if(abs(derivative(g,x,dx=1e-9))<1 and abs(derivative(g,x+1,dx=1e-9))<1):\n",
    "            cond = False\n",
    "    if(cond):\n",
    "        c = -1*func(0)\n",
    "        g = lambda x: c/((func(x)+c)/x) #Caso b\n",
    "        \n",
    "        if(abs(derivative(g,x,dx=1e-9))<1 and abs(derivative(g,x+1,dx=1e-9))<1):\n",
    "            cond = False\n",
    "    if(cond):\n",
    "        a = lambda x: func(x)+(-1*b*x)+c\n",
    "        g = lambda x: ((-1*func(x))+a(x))/((a(x)/x)) #Caso c\n",
    "        \n",
    "        if(abs(derivative(g,x,dx=1e-9))<1 and abs(derivative(g,x+1,dx=1e-9))<1):\n",
    "            cond = False\n",
    "    if(cond):\n",
    "        return None\n",
    "    for i in range(0,precisao):\n",
    "        x = g(x)\n",
    "        \n",
    "        if x==0:\n",
    "            break\n",
    "    return x"
   ]
  },
  {
   "cell_type": "code",
   "execution_count": 125,
   "metadata": {},
   "outputs": [],
   "source": [
    "func = lambda x: (x**2)-3.5*x-4\n",
    "func2 = lambda x: 8 - 4.5*(x - numpy.sin(x))\n",
    "func3 = lambda x: x*numpy.exp(0.5*x)+1.2*x-5"
   ]
  },
  {
   "cell_type": "code",
   "execution_count": 2,
   "metadata": {},
   "outputs": [],
   "source": [
    "#c = -1*(0*numpy.exp(0.5*0)+1.2*0-5)\n",
    "#g = lambda x: c/(((x*numpy.exp(0.5*x)+1.2*x-5)+c)/x)"
   ]
  },
  {
   "cell_type": "code",
   "execution_count": 130,
   "metadata": {},
   "outputs": [
    {
     "data": {
      "text/plain": [
       "4.4075364531836625"
      ]
     },
     "execution_count": 130,
     "metadata": {},
     "output_type": "execute_result"
    }
   ],
   "source": [
    "ponto_fixo(func,100,4)"
   ]
  },
  {
   "cell_type": "code",
   "execution_count": 131,
   "metadata": {},
   "outputs": [
    {
     "data": {
      "text/plain": [
       "1.7763568394002505e-15"
      ]
     },
     "execution_count": 131,
     "metadata": {},
     "output_type": "execute_result"
    }
   ],
   "source": [
    "func(4.4075364531836625)"
   ]
  },
  {
   "cell_type": "code",
   "execution_count": 82,
   "metadata": {},
   "outputs": [],
   "source": [
    "c = -1*func3(0)\n",
    "g = lambda x: c/((func3(x)+c)/x) #Caso b"
   ]
  },
  {
   "cell_type": "code",
   "execution_count": 83,
   "metadata": {},
   "outputs": [
    {
     "data": {
      "text/plain": [
       "-0.5079104914429422"
      ]
     },
     "execution_count": 83,
     "metadata": {},
     "output_type": "execute_result"
    }
   ],
   "source": [
    "derivative(g,1,dx=1e-9)"
   ]
  },
  {
   "cell_type": "code",
   "execution_count": 90,
   "metadata": {},
   "outputs": [],
   "source": [
    "def teste(func,precisao,x):\n",
    "    c = -1*func(0)\n",
    "    g = lambda x: c/((func(x)+c)/x)\n",
    "    for i in range(0,precisao):\n",
    "        x = g(x)\n",
    "    return x"
   ]
  },
  {
   "cell_type": "code",
   "execution_count": 91,
   "metadata": {},
   "outputs": [
    {
     "data": {
      "text/plain": [
       "1.5046494659171317"
      ]
     },
     "execution_count": 91,
     "metadata": {},
     "output_type": "execute_result"
    }
   ],
   "source": [
    "teste(func3,10,1)"
   ]
  }
 ],
 "metadata": {
  "kernelspec": {
   "display_name": "Python 3",
   "language": "python",
   "name": "python3"
  },
  "language_info": {
   "codemirror_mode": {
    "name": "ipython",
    "version": 3
   },
   "file_extension": ".py",
   "mimetype": "text/x-python",
   "name": "python",
   "nbconvert_exporter": "python",
   "pygments_lexer": "ipython3",
   "version": "3.7.6"
  }
 },
 "nbformat": 4,
 "nbformat_minor": 4
}
